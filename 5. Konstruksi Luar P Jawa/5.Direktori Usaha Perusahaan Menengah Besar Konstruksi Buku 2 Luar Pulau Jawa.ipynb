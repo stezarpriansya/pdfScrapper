{
 "cells": [
  {
   "cell_type": "code",
   "execution_count": 1,
   "metadata": {},
   "outputs": [],
   "source": [
    "import io\n",
    "import re\n",
    "import csv\n",
    "import pandas as pd\n",
    "import win32com.client\n",
    "\n",
    "from docx import Document"
   ]
  },
  {
   "cell_type": "code",
   "execution_count": 2,
   "metadata": {},
   "outputs": [],
   "source": [
    "Path = \"D:/Projek Jardin_24102018/Company Universe/BPS/5. Konstruksi Luar P Jawa/5.Direktori Usaha Perusahaan Menengah Besar Konstruksi Buku 2 Luar Pulau Jawa.docx\""
   ]
  },
  {
   "cell_type": "code",
   "execution_count": 3,
   "metadata": {},
   "outputs": [],
   "source": [
    "file = open(Path, 'rb')"
   ]
  },
  {
   "cell_type": "code",
   "execution_count": 4,
   "metadata": {},
   "outputs": [],
   "source": [
    "doc = Document(file)"
   ]
  },
  {
   "cell_type": "code",
   "execution_count": 6,
   "metadata": {},
   "outputs": [],
   "source": [
    "kategori = []\n",
    "telp1 = []\n",
    "telp2 = []\n",
    "telp3 = []\n",
    "email = []\n",
    "dumpEmail = []\n",
    "web = []\n",
    "alamat = []\n",
    "tempAlamat = []\n",
    "perusahaan = []\n",
    "kodeKategori = []\n",
    "statPerusahaan = []\n",
    "\n",
    "tempTel1 = ''\n",
    "tempTel2 = ''\n",
    "tempTel3 = ''\n",
    "tempEmail = ''\n",
    "tempWeb = ''"
   ]
  },
  {
   "cell_type": "code",
   "execution_count": 7,
   "metadata": {
    "scrolled": true
   },
   "outputs": [],
   "source": [
    "for idx, para in enumerate(doc.paragraphs):\n",
    "\n",
    "    if(re.search(r'[0-9]{3,}-\\d{5,}|^08|\\+62|\\d{3}-62-\\d{2,3}-\\d{5,}', para.text)):\n",
    "        if(tempTel1 == ''):\n",
    "            tempTel1 = para.text\n",
    "        elif(tempTel2 == ''):\n",
    "            tempTel2 = para.text\n",
    "        else:\n",
    "            tempTel3 = para.text\n",
    "    elif(re.search(r'.*@.*\\.[a-zA-Z]{2,3}\\.?', para.text)):\n",
    "        tempEmail = para.text\n",
    "        dumpEmail.append(para.text)\n",
    "    elif(re.search(r'(^www.)|(^http)', para.text)):\n",
    "        tempWeb = para.text\n",
    "        web.append(para.text)\n",
    "    elif(re.sub(r' +','',para.text) != ''):\n",
    "        if(re.search(r'^[0-9]{2}[a-zA-Z\\s\\-]+( - .*)?$', para.text)):\n",
    "            kategori.append(re.sub(r'\\d+ | - .*','',para.text))\n",
    "            kodeKategori.append(re.sub(r' [a-zA-Z].*','',para.text))\n",
    "            telp1.append(tempTel1)\n",
    "            telp2.append(tempTel2)\n",
    "            telp3.append(tempTel3)\n",
    "            if(len(tempAlamat) > 1):\n",
    "                if(re.search(r'\\b[a-zA-Z0-9]{4,}\\.[a-zA-Z]{2,3}\\.?$\\b',tempAlamat[0])):\n",
    "                    tempWeb = tempAlamat[0]\n",
    "                    web.append(tempWeb)\n",
    "                    alamat.append(' '.join(tempAlamat[1:-1]))\n",
    "                else:\n",
    "                    alamat.append(' '.join(tempAlamat[:-1]))\n",
    "            else:\n",
    "                alamat.append(tempAlamat[0])\n",
    "            perusahaan.append(re.sub(r'(, ?\\bPT\\b.*)|(, ?\\bCO\\b.?)|(,? ?\\bBUT\\b)|(,? ?\\bGMBH\\b)|(,? ?\\bLTD.*\\b)|(,? ?\\bPTE\\b)|(, ?\\bINC\\b)|(,? ?\\bS\\.R\\.L\\b)|(,? ?\\bS\\.P\\.A\\b)|(,? ?\\bSDN BHD\\b)','',tempAlamat[-1]))\n",
    "            if(re.sub(r'.*, ','',tempAlamat[-1]) != tempAlamat[-1]):\n",
    "                statPerusahaan.append(re.sub(r'.*, ','',tempAlamat[-1]))\n",
    "            else:\n",
    "                if(re.search(r'(\\bS.R.L\\b)|(\\bSDN BHD\\b)|(\\bLTD\\b)|(\\bGMBH\\b)|(\\bS.P.A\\b)',tempAlamat[-1])):\n",
    "                    statPerusahaan.append(re.search(r'(\\bS.R.L\\b)|(\\bSDN BHD\\b)|(\\bLTD\\b)|(\\bBUT\\b)|(\\bGMBH\\b)|(\\bS\\.P\\.A\\b)',tempAlamat[-1]).group())\n",
    "                else:\n",
    "                    if(re.search(r'\\bLIMITED\\b',tempAlamat[-1])):\n",
    "                        statPerusahaan.append('LTD')\n",
    "                    else:\n",
    "                        statPerusahaan.append('None')\n",
    "            if(tempEmail == ''):\n",
    "                email.append('')\n",
    "            else:\n",
    "                email.append(dumpEmail[0])\n",
    "            if(tempWeb == ''):\n",
    "                web.append('')\n",
    "            tempTel1 = ''\n",
    "            tempTel2 = ''\n",
    "            tempTel3 = ''  \n",
    "            tempEmail = ''\n",
    "            tempWeb = ''\n",
    "            tempAlamat = []\n",
    "            dumpEmail = []\n",
    "        else:\n",
    "            tempAlamat.append(para.text)"
   ]
  },
  {
   "cell_type": "code",
   "execution_count": 8,
   "metadata": {},
   "outputs": [
    {
     "name": "stdout",
     "output_type": "stream",
     "text": [
      "perusahaan: 12830\n",
      "alamat: 12830\n",
      "web: 12830\n",
      "email: 12830\n"
     ]
    }
   ],
   "source": [
    "print('perusahaan: ' + str(len(perusahaan)))\n",
    "print('alamat: ' + str(len(alamat)))\n",
    "print('web: ' + str(len(web)))\n",
    "print('email: ' + str(len(email)))"
   ]
  },
  {
   "cell_type": "code",
   "execution_count": 9,
   "metadata": {},
   "outputs": [
    {
     "data": {
      "text/plain": [
       "'YUMA LANI KEMBU'"
      ]
     },
     "execution_count": 9,
     "metadata": {},
     "output_type": "execute_result"
    }
   ],
   "source": [
    "perusahaan[len(perusahaan)-1]"
   ]
  },
  {
   "cell_type": "code",
   "execution_count": 10,
   "metadata": {},
   "outputs": [
    {
     "data": {
      "text/plain": [
       "'JL RUKO PASIFIK PERMAI BLOK A 7, BAYANGKARA, KEC. JAYAPURA UTARA'"
      ]
     },
     "execution_count": 10,
     "metadata": {},
     "output_type": "execute_result"
    }
   ],
   "source": [
    "alamat[len(alamat)-1]"
   ]
  },
  {
   "cell_type": "code",
   "execution_count": 11,
   "metadata": {},
   "outputs": [],
   "source": [
    "data = list(zip(kategori,telp1,telp2,telp3,email,web,alamat,perusahaan,kodeKategori,statPerusahaan))"
   ]
  },
  {
   "cell_type": "code",
   "execution_count": 12,
   "metadata": {},
   "outputs": [],
   "source": [
    "DataTes = {'Kategori': kategori,\n",
    "           'Telp1': telp1, \n",
    "           'Telp2': telp2, \n",
    "           'Telp3': telp3,\n",
    "           'Email': email,\n",
    "           'Website': web,\n",
    "           'Alamat': alamat,\n",
    "           'Nama Perusahaan': perusahaan,\n",
    "           'Kode Kategori': kodeKategori,\n",
    "           'Status Badan Usaha': statPerusahaan}"
   ]
  },
  {
   "cell_type": "code",
   "execution_count": 13,
   "metadata": {},
   "outputs": [],
   "source": [
    "df = pd.DataFrame(data=data, columns=['Kategori',\n",
    "                                      'Telp1', \n",
    "                                      'Telp2', \n",
    "                                      'Telp3',\n",
    "                                      'Email',\n",
    "                                      'Website',\n",
    "                                      'Alamat',\n",
    "                                      'Nama Perusahaan',\n",
    "                                      'Kode Kategori',\n",
    "                                      'Status Badan Usaha'])"
   ]
  },
  {
   "cell_type": "code",
   "execution_count": 14,
   "metadata": {},
   "outputs": [
    {
     "data": {
      "text/html": [
       "<div>\n",
       "<style scoped>\n",
       "    .dataframe tbody tr th:only-of-type {\n",
       "        vertical-align: middle;\n",
       "    }\n",
       "\n",
       "    .dataframe tbody tr th {\n",
       "        vertical-align: top;\n",
       "    }\n",
       "\n",
       "    .dataframe thead th {\n",
       "        text-align: right;\n",
       "    }\n",
       "</style>\n",
       "<table border=\"1\" class=\"dataframe\">\n",
       "  <thead>\n",
       "    <tr style=\"text-align: right;\">\n",
       "      <th></th>\n",
       "      <th>Kategori</th>\n",
       "      <th>Telp1</th>\n",
       "      <th>Telp2</th>\n",
       "      <th>Telp3</th>\n",
       "      <th>Email</th>\n",
       "      <th>Website</th>\n",
       "      <th>Alamat</th>\n",
       "      <th>Nama Perusahaan</th>\n",
       "      <th>Kode Kategori</th>\n",
       "      <th>Status Badan Usaha</th>\n",
       "    </tr>\n",
       "  </thead>\n",
       "  <tbody>\n",
       "    <tr>\n",
       "      <th>0</th>\n",
       "      <td>KONSTRUKSI KHUSUS</td>\n",
       "      <td>081261167878</td>\n",
       "      <td></td>\n",
       "      <td></td>\n",
       "      <td></td>\n",
       "      <td></td>\n",
       "      <td>JL BUNGO LAWANG, AIR DINGIN, KEC. SIMEULUE TIM...</td>\n",
       "      <td>PADANTADARO</td>\n",
       "      <td>43</td>\n",
       "      <td>PT</td>\n",
       "    </tr>\n",
       "    <tr>\n",
       "      <th>1</th>\n",
       "      <td>KONSTRUKSI SIPIL</td>\n",
       "      <td>082167787981</td>\n",
       "      <td></td>\n",
       "      <td></td>\n",
       "      <td></td>\n",
       "      <td></td>\n",
       "      <td>DSN MAWAR DESA SUAK BULUH, SUAK BULUH, KEC. SI...</td>\n",
       "      <td>RAHMAT SEJAHTERA</td>\n",
       "      <td>42</td>\n",
       "      <td>PT</td>\n",
       "    </tr>\n",
       "    <tr>\n",
       "      <th>2</th>\n",
       "      <td>KONSTRUKSI KHUSUS</td>\n",
       "      <td>085262624568</td>\n",
       "      <td></td>\n",
       "      <td></td>\n",
       "      <td></td>\n",
       "      <td></td>\n",
       "      <td>JL IBNU ABAN DSN ITAU MENGITA, AIR DINGIN, KEC...</td>\n",
       "      <td>VANESSA MANDIRI UTAMA</td>\n",
       "      <td>43</td>\n",
       "      <td>PT</td>\n",
       "    </tr>\n",
       "    <tr>\n",
       "      <th>3</th>\n",
       "      <td>KONSTRUKSI SIPIL</td>\n",
       "      <td></td>\n",
       "      <td></td>\n",
       "      <td></td>\n",
       "      <td></td>\n",
       "      <td></td>\n",
       "      <td>KAB. ACEH SINGKIL JL SYECH HAMZAH FANSURI, PUL...</td>\n",
       "      <td>CEMARA LAUT</td>\n",
       "      <td>42</td>\n",
       "      <td>PT</td>\n",
       "    </tr>\n",
       "    <tr>\n",
       "      <th>4</th>\n",
       "      <td>KONSTRUKSI GEDUNG</td>\n",
       "      <td>081375746753</td>\n",
       "      <td></td>\n",
       "      <td></td>\n",
       "      <td></td>\n",
       "      <td></td>\n",
       "      <td>JL BAHARI, PULO SAROK, KEC. SINGKIL 24785</td>\n",
       "      <td>PULO SAROK</td>\n",
       "      <td>41</td>\n",
       "      <td>PT</td>\n",
       "    </tr>\n",
       "  </tbody>\n",
       "</table>\n",
       "</div>"
      ],
      "text/plain": [
       "            Kategori         Telp1 Telp2 Telp3 Email Website  \\\n",
       "0  KONSTRUKSI KHUSUS  081261167878                             \n",
       "1   KONSTRUKSI SIPIL  082167787981                             \n",
       "2  KONSTRUKSI KHUSUS  085262624568                             \n",
       "3   KONSTRUKSI SIPIL                                           \n",
       "4  KONSTRUKSI GEDUNG  081375746753                             \n",
       "\n",
       "                                              Alamat        Nama Perusahaan  \\\n",
       "0  JL BUNGO LAWANG, AIR DINGIN, KEC. SIMEULUE TIM...            PADANTADARO   \n",
       "1  DSN MAWAR DESA SUAK BULUH, SUAK BULUH, KEC. SI...       RAHMAT SEJAHTERA   \n",
       "2  JL IBNU ABAN DSN ITAU MENGITA, AIR DINGIN, KEC...  VANESSA MANDIRI UTAMA   \n",
       "3  KAB. ACEH SINGKIL JL SYECH HAMZAH FANSURI, PUL...            CEMARA LAUT   \n",
       "4          JL BAHARI, PULO SAROK, KEC. SINGKIL 24785             PULO SAROK   \n",
       "\n",
       "  Kode Kategori Status Badan Usaha  \n",
       "0            43                 PT  \n",
       "1            42                 PT  \n",
       "2            43                 PT  \n",
       "3            42                 PT  \n",
       "4            41                 PT  "
      ]
     },
     "execution_count": 14,
     "metadata": {},
     "output_type": "execute_result"
    }
   ],
   "source": [
    "df.head()"
   ]
  },
  {
   "cell_type": "code",
   "execution_count": 15,
   "metadata": {},
   "outputs": [],
   "source": [
    "# df[df['Alamat'].str.contains('KAB. ')]"
   ]
  },
  {
   "cell_type": "code",
   "execution_count": 36,
   "metadata": {},
   "outputs": [
    {
     "data": {
      "text/html": [
       "<div>\n",
       "<style scoped>\n",
       "    .dataframe tbody tr th:only-of-type {\n",
       "        vertical-align: middle;\n",
       "    }\n",
       "\n",
       "    .dataframe tbody tr th {\n",
       "        vertical-align: top;\n",
       "    }\n",
       "\n",
       "    .dataframe thead th {\n",
       "        text-align: right;\n",
       "    }\n",
       "</style>\n",
       "<table border=\"1\" class=\"dataframe\">\n",
       "  <thead>\n",
       "    <tr style=\"text-align: right;\">\n",
       "      <th></th>\n",
       "      <th>Kategori</th>\n",
       "      <th>Telp1</th>\n",
       "      <th>Telp2</th>\n",
       "      <th>Telp3</th>\n",
       "      <th>Email</th>\n",
       "      <th>Website</th>\n",
       "      <th>Alamat</th>\n",
       "      <th>Nama Perusahaan</th>\n",
       "      <th>Kode Kategori</th>\n",
       "      <th>Status Badan Usaha</th>\n",
       "      <th>Alamat2</th>\n",
       "    </tr>\n",
       "  </thead>\n",
       "  <tbody>\n",
       "  </tbody>\n",
       "</table>\n",
       "</div>"
      ],
      "text/plain": [
       "Empty DataFrame\n",
       "Columns: [Kategori, Telp1, Telp2, Telp3, Email, Website, Alamat, Nama Perusahaan, Kode Kategori, Status Badan Usaha, Alamat2]\n",
       "Index: []"
      ]
     },
     "execution_count": 36,
     "metadata": {},
     "output_type": "execute_result"
    }
   ],
   "source": [
    "a = df[df['Alamat2'].str.contains('Direktori')]\n",
    "a"
   ]
  },
  {
   "cell_type": "code",
   "execution_count": null,
   "metadata": {},
   "outputs": [],
   "source": [
    "df.to_csv('D:/Projek Jardin_24102018/Company Universe/BPS/Konstruksi Luar P Jawa/5.Direktori Usaha Perusahaan Menengah Besar Konstruksi Buku 2 Luar Pulau Jawa.csv',index=None)"
   ]
  },
  {
   "cell_type": "code",
   "execution_count": 32,
   "metadata": {},
   "outputs": [],
   "source": [
    "df['Alamat2'] = df['Alamat'].apply(lambda x: re.sub(r'\\bDirektori.*KONSTRUKSI.\\b','',x))"
   ]
  },
  {
   "cell_type": "code",
   "execution_count": 31,
   "metadata": {},
   "outputs": [],
   "source": [
    "df['Alamat2'] = df['Alamat'].apply(lambda x: re.sub(r'\\d.*\\bDirektori.*KONSTRUKSI.\\b','',x))"
   ]
  },
  {
   "cell_type": "code",
   "execution_count": null,
   "metadata": {},
   "outputs": [],
   "source": []
  }
 ],
 "metadata": {
  "kernelspec": {
   "display_name": "Python 3",
   "language": "python",
   "name": "python3"
  },
  "language_info": {
   "codemirror_mode": {
    "name": "ipython",
    "version": 3
   },
   "file_extension": ".py",
   "mimetype": "text/x-python",
   "name": "python",
   "nbconvert_exporter": "python",
   "pygments_lexer": "ipython3",
   "version": "3.6.4"
  }
 },
 "nbformat": 4,
 "nbformat_minor": 2
}
