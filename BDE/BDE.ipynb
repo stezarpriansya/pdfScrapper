{
 "cells": [
  {
   "cell_type": "code",
   "execution_count": 1,
   "metadata": {},
   "outputs": [],
   "source": [
    "import io\n",
    "import re\n",
    "import csv\n",
    "import pandas as pd\n",
    "import win32com.client\n",
    "from docx import Document"
   ]
  },
  {
   "cell_type": "code",
   "execution_count": 8,
   "metadata": {},
   "outputs": [],
   "source": [
    "PathB = \"B.docx\"\n",
    "PathD = \"D.docx\"\n",
    "PathE = \"E.docx\""
   ]
  },
  {
   "cell_type": "code",
   "execution_count": 9,
   "metadata": {},
   "outputs": [],
   "source": [
    "prov = open('../provinsi.txt', 'r').read().lower()"
   ]
  },
  {
   "cell_type": "code",
   "execution_count": 10,
   "metadata": {},
   "outputs": [],
   "source": [
    "prov = prov.split('\\n')"
   ]
  },
  {
   "cell_type": "code",
   "execution_count": 11,
   "metadata": {},
   "outputs": [],
   "source": [
    "prov = set(prov[:len(prov)-1])"
   ]
  },
  {
   "cell_type": "code",
   "execution_count": 12,
   "metadata": {},
   "outputs": [],
   "source": [
    "docB = Document(open(PathB, 'rb'))\n",
    "docD = Document(open(PathD, 'rb'))\n",
    "docE = Document(open(PathE, 'rb'))"
   ]
  },
  {
   "cell_type": "code",
   "execution_count": 13,
   "metadata": {},
   "outputs": [],
   "source": [
    "def buat_df(doc, prov, kategori):\n",
    "    # REMOVE PROVINSI, \n",
    "    i = 0\n",
    "    par = []\n",
    "    for idx, para in enumerate(doc.paragraphs):\n",
    "        if (para.text.lower() not in prov) and (len(para.text.strip(' \\n\\r\\t')) != 0):\n",
    "            tes = i, para\n",
    "            par.append(tes)\n",
    "            i = i+1\n",
    "    \n",
    "    # membaca baris per baris dengan nama perusahaan menjadi urutan pertama\n",
    "    batas = 0\n",
    "    pars = []\n",
    "    title_bold = []\n",
    "    for idx, para in par:\n",
    "        if idx in title_bold:\n",
    "            continue\n",
    "        paratemp = []\n",
    "        for run in para.runs:\n",
    "            if run.bold:\n",
    "                temptit = [run.text for run in para.runs if run.bold][0]\n",
    "                cek_tit = True\n",
    "                xx = idx + 1\n",
    "                if(xx == len(par)):\n",
    "                    cek_tit = False\n",
    "                while cek_tit:\n",
    "                    temptit2 = [run.text for run in par[xx][1].runs if run.bold]\n",
    "                    if len(temptit2) > 0:\n",
    "                        title_bold.append(xx)\n",
    "                        temptit = temptit +' '+temptit2[0]\n",
    "                        xx = xx + 1\n",
    "                    else:\n",
    "                        cek_tit = False\n",
    "                paratemp.append(temptit+' [NAMA_PERUSAHAAN]')\n",
    "\n",
    "                for x in range(batas, idx):\n",
    "                    for run in par[x][1].runs:\n",
    "                        if len(run.text.strip(' \\n\\r\\t')) != 0:\n",
    "                            if run.bold:\n",
    "                                continue\n",
    "                            else:\n",
    "                                paratemp.append(par[x][1].text)\n",
    "                pars.append(paratemp)\n",
    "                batas = xx\n",
    "    # menggabungkan alamat\n",
    "    par_temp = []\n",
    "    for idx, p in enumerate(pars):\n",
    "        parss = []\n",
    "        batas = len(p)-1\n",
    "        batas_bawah = []\n",
    "        for idxx, x in enumerate(p):\n",
    "            if idxx in batas_bawah:\n",
    "                continue\n",
    "            tempAlamat = ''\n",
    "            if idxx <= batas:\n",
    "                if re.search(r'( \\[NAMA_PERUSAHAAN\\])', x):\n",
    "                    parss.append(x)\n",
    "                elif (re.search(r'(^.*(RT\\.|RW\\.|KEC\\.|JL|KAB\\.|DSN\\.|JALAN |JLN|KOTA ).*$)', x)):\n",
    "                    if idxx == len(p)-1:\n",
    "                        tempAlamat = x\n",
    "                    else:\n",
    "                        xxx = idxx\n",
    "                        while (xxx <= len(p)-1):\n",
    "                            if (re.search(r'\\b[^-][\\d]{5}\\b', p[xxx])):\n",
    "                                batas_bawah.append(xxx)\n",
    "                                tempAlamat = tempAlamat + ' '+ p[xxx]\n",
    "                                xxx = xxx + 1\n",
    "                            elif (re.search(r'(^.*(RT\\.|RW\\.|KEC\\.|JL|KAB\\.|DSN\\.|JALAN |JLN|KOTA ).*$)', x)):\n",
    "                                batas_bawah.append(xxx)\n",
    "                                tempAlamat = tempAlamat + ' '+ p[xxx]\n",
    "                                xxx = xxx + 1\n",
    "                    parss.append(tempAlamat.strip(' \\n\\r\\t'))\n",
    "                else:\n",
    "                    parss.append(x)\n",
    "        par_temp.append(parss)\n",
    "    # Buat DF\n",
    "    data = []\n",
    "    tempTel1 = ''\n",
    "    tempTel2 = ''\n",
    "    tempTel3 = ''  \n",
    "    tempEmail = ''\n",
    "    tempWeb = ''\n",
    "    for line in par_temp:\n",
    "\n",
    "        row = {'Kategori': kategori,\n",
    "               'Telp1': '', \n",
    "               'Telp2': '', \n",
    "               'Telp3': '',\n",
    "               'Email': '',\n",
    "               'Website': '',\n",
    "               'Alamat': '',\n",
    "               'Nama Perusahaan': '',\n",
    "               'Kode Kategori': '',\n",
    "               'Status Badan Usaha': ''}\n",
    "\n",
    "        for text in line:\n",
    "            if(re.search(r'[0-9]{3,}-\\d{5,}|^08|\\+62|\\d{3}-62-\\d{2,3}-\\d{5,}|--\\d{5,}|\\d{6,}', text)):\n",
    "                if(tempTel1 == ''):\n",
    "                    tempTel1 = text\n",
    "                    row['Telp1'] = tempTel1\n",
    "                elif(tempTel2 == ''):\n",
    "                    tempTel2 = text\n",
    "                    row['Telp2'] = tempTel2\n",
    "                else:\n",
    "                    tempTel3 = text\n",
    "                    row['Telp3'] = tempTel3\n",
    "            elif(re.search(r'( \\[NAMA_PERUSAHAAN\\])', text)):\n",
    "    #             print(text)\n",
    "                text = re.sub(r'( \\[NAMA_PERUSAHAAN\\])', '', text)\n",
    "                if (re.search(r'(, ?\\bPD\\b.*)|(, ?\\bPT\\b.*)|(, ?\\bCO\\b.?)|(, ?\\bCV\\b.?)|(,? ?\\bBUT\\b)|(,? ?\\bGMBH\\b)|(,? ?\\bLTD.*\\b)|(,? ?\\bPTE\\b)|(, ?\\bINC\\b)|(,? ?\\bS\\.R\\.L\\b)|(,? ?\\bS\\.P\\.A\\b)|(,? ?\\bSDN BHD\\b)', text)):\n",
    "                    row['Nama Perusahaan'] = re.sub(r'(, ?\\bPD\\b.*)|(, ?\\bPT\\b.*)|(, ?\\bCO\\b.?)|(, ?\\bCV\\b.?)|(,? ?\\bBUT\\b)|(,? ?\\bGMBH\\b)|(,? ?\\bLTD.*\\b)|(,? ?\\bPTE\\b)|(, ?\\bINC\\b)|(,? ?\\bS\\.R\\.L\\b)|(,? ?\\bS\\.P\\.A\\b)|(,? ?\\bSDN BHD\\b)','',text)\n",
    "                    row['Status Badan Usaha'] = re.search(r'(, ?\\bPD\\b.*)|(, ?\\bPT\\b)|(, ?\\bCO\\b.?)|(, ?\\bCV\\b.?)|(,? ?\\bBUT\\b)|(,? ?\\bGMBH\\b)|(,? ?\\bLTD\\b)|(,? ?\\bPTE\\b)|(, ?\\bINC\\b)|(,? ?\\bS\\.R\\.L\\b)|(,? ?\\bS\\.P\\.A\\b)|(,? ?\\bSDN BHD\\b)', text).group().replace(',','').strip(' \\n\\r\\t')\n",
    "                else:\n",
    "                    row['Nama Perusahaan'] = text\n",
    "                    if(re.search(r'(\\bS\\.R\\.L\\b)|(\\bSDN BHD\\b)|(\\bLTD\\b)|(\\bGMBH\\b)|(\\bBUT\\b)|(\\bS\\.P\\.A\\b)',text)):\n",
    "                        row['Status Badan Usaha'] = re.search(r'(\\bS\\.R\\.L\\b)|(\\bSDN BHD\\b)|(\\bLTD\\b)|(\\bBUT\\b)|(\\bGMBH\\b)|(\\bS\\.P\\.A\\b)',text).group()\n",
    "                    elif(re.search(r'\\bLIMITED\\b',text)):\n",
    "                        row['Status Badan Usaha'] = 'LTD'\n",
    "                    elif(re.search(r'\\b KAB \\b|\\b KOTA \\b',text)):\n",
    "                        row['Status Badan Usaha'] = 'PD'\n",
    "                    else:\n",
    "                        row['Status Badan Usaha'] = 'None'\n",
    "            elif(re.search(r'.*@.*\\.[a-zA-Z]{2,3}\\.?', text)) or (re.search(r'.*@.*', text)):\n",
    "                tempEmail = text\n",
    "                row['Email'] = tempEmail\n",
    "            elif(re.search(r'(^www.)|(^http)|(.com$)|(.co.id$)|(.net$)', text)):\n",
    "                tempWeb = text\n",
    "                row['Website'] = tempWeb\n",
    "            elif(re.search(r'^[0-9]{2}[a-zA-Z\\s\\-]+( - .*)?$', text)):\n",
    "                row['Kategori'] = re.sub(r'\\d+ | - .*','', text)\n",
    "                row['Kode Kategori'] = re.sub(r' [a-zA-Z].*','', text)\n",
    "            elif(re.search(r'(^.*(RT\\.|RW\\.|KEC\\.|JL|KAB\\.|DSN\\.|JALAN |JLN|KOTA ).*$)', text)):\n",
    "                row['Alamat'] = (row['Alamat']+' '+text).strip(' \\n\\r\\t')\n",
    "            else:\n",
    "                row['Alamat'] = (row['Alamat']+' '+text).strip(' \\n\\r\\t')\n",
    "        data.append(row)\n",
    "        tempTel1 = ''\n",
    "        tempTel2 = ''\n",
    "        tempTel3 = ''  \n",
    "        tempEmail = ''\n",
    "        tempWeb = ''\n",
    "        \n",
    "    return data"
   ]
  },
  {
   "cell_type": "code",
   "execution_count": 14,
   "metadata": {},
   "outputs": [],
   "source": [
    "dfB = pd.DataFrame(buat_df(docB, prov, 'Pertambangan dan Penggalian'))\n",
    "dfD = pd.DataFrame(buat_df(docD, prov, 'Pengadaan Listrik, Gas/Uap Air Panas, dan Udara Dingin'))\n",
    "dfE = pd.DataFrame(buat_df(docE, prov, 'Pengelolaan Air, Pengelolaan Air Limbah, Pengelolaan dan Daur Ulang Sampah, dan Kegiatan Remediasi'))"
   ]
  },
  {
   "cell_type": "code",
   "execution_count": 15,
   "metadata": {},
   "outputs": [],
   "source": [
    "df_gabungan = pd.concat([dfB, dfD, dfE])"
   ]
  },
  {
   "cell_type": "code",
   "execution_count": 16,
   "metadata": {},
   "outputs": [],
   "source": [
    "df_gabungan.reset_index(inplace=True)"
   ]
  },
  {
   "cell_type": "code",
   "execution_count": 17,
   "metadata": {},
   "outputs": [],
   "source": [
    "df_gabungan.drop(['index'], axis=1, inplace=True)"
   ]
  },
  {
   "cell_type": "code",
   "execution_count": 18,
   "metadata": {},
   "outputs": [],
   "source": [
    "df_gabungan.to_csv('BDE.csv')"
   ]
  },
  {
   "cell_type": "code",
   "execution_count": null,
   "metadata": {},
   "outputs": [],
   "source": []
  }
 ],
 "metadata": {
  "kernelspec": {
   "display_name": "Python 3",
   "language": "python",
   "name": "python3"
  },
  "language_info": {
   "codemirror_mode": {
    "name": "ipython",
    "version": 3
   },
   "file_extension": ".py",
   "mimetype": "text/x-python",
   "name": "python",
   "nbconvert_exporter": "python",
   "pygments_lexer": "ipython3",
   "version": "3.6.6"
  }
 },
 "nbformat": 4,
 "nbformat_minor": 2
}
